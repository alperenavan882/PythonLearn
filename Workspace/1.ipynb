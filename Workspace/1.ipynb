{
  "cells": [
    {
      "cell_type": "markdown",
      "id": "a52d098b-00ef-4687-9106-686504fff248",
      "metadata": {},
      "source": [
        "Introduction"
      ]
    },
    {
      "cell_type": "code",
      "execution_count": 7,
      "id": "20bb1c2e-80af-4862-94d3-7cc31afd8e2b",
      "metadata": {
        "trusted": true
      },
      "outputs": [
        {
          "name": "stdout",
          "output_type": "stream",
          "text": [
            "5\n"
          ]
        }
      ],
      "source": [
        "x = 5\n",
        "print(x)"
      ]
    },
    {
      "cell_type": "code",
      "execution_count": 8,
      "id": "81d00f6d-1afc-48ec-9bf4-16899d05b62a",
      "metadata": {
        "trusted": true
      },
      "outputs": [
        {
          "name": "stdout",
          "output_type": "stream",
          "text": [
            "6\n"
          ]
        }
      ],
      "source": [
        "x = x + 1\n",
        "print(x)\n"
      ]
    },
    {
      "cell_type": "code",
      "execution_count": 9,
      "id": "d2c931c5-e496-46a2-9a76-a79efaea8d6f",
      "metadata": {
        "trusted": true
      },
      "outputs": [
        {
          "name": "stdout",
          "output_type": "stream",
          "text": [
            "2.0\n"
          ]
        }
      ],
      "source": [
        "x = 5//2.0\n",
        "print(x)"
      ]
    },
    {
      "cell_type": "code",
      "execution_count": 10,
      "id": "2c9593c1-2fea-40d6-94a7-30742e4df2c8",
      "metadata": {
        "trusted": true
      },
      "outputs": [
        {
          "name": "stdout",
          "output_type": "stream",
          "text": [
            "2.0\n"
          ]
        }
      ],
      "source": [
        "x = 5.0//2\n",
        "print(x)"
      ]
    },
    {
      "cell_type": "code",
      "execution_count": 11,
      "id": "ecab08f4-8661-49e1-b9d2-6963db41df40",
      "metadata": {
        "trusted": true
      },
      "outputs": [
        {
          "name": "stdout",
          "output_type": "stream",
          "text": [
            "2\n"
          ]
        }
      ],
      "source": [
        "x = 5//2\n",
        "print(x)"
      ]
    },
    {
      "cell_type": "markdown",
      "id": "1ac92c30-68c5-4a85-997d-2934cf3838a5",
      "metadata": {},
      "source": [
        "Strings"
      ]
    },
    {
      "cell_type": "markdown",
      "id": "6905b1f0-6edc-430e-845d-a65746d754f3",
      "metadata": {},
      "source": [
        "x = \"Alperen\"\n",
        "type(x)"
      ]
    },
    {
      "cell_type": "markdown",
      "id": "9a5e48dd-aeca-4cc9-8446-9ba8b44f4cda",
      "metadata": {},
      "source": [
        "Escape Sequences"
      ]
    },
    {
      "cell_type": "code",
      "execution_count": 12,
      "id": "945f8418-c1be-4651-bdd4-1e589d282144",
      "metadata": {
        "trusted": true
      },
      "outputs": [
        {
          "data": {
            "text/plain": [
              "'She asked me \"What are you doing today\" at morning'"
            ]
          },
          "execution_count": 12,
          "metadata": {},
          "output_type": "execute_result"
        }
      ],
      "source": [
        "\"She asked me \\\"What are you doing today\\\" at morning\""
      ]
    },
    {
      "cell_type": "code",
      "execution_count": 13,
      "id": "15b271d3-276e-4d20-b6bd-fa2dd010977d",
      "metadata": {
        "trusted": true
      },
      "outputs": [
        {
          "data": {
            "text/plain": [
              "\"It's not my pencil\""
            ]
          },
          "execution_count": 13,
          "metadata": {},
          "output_type": "execute_result"
        }
      ],
      "source": [
        "\"It\\'s not my pencil\""
      ]
    },
    {
      "cell_type": "code",
      "execution_count": 14,
      "id": "8eb7205b-03a0-4055-8608-01a13b29bc2a",
      "metadata": {
        "trusted": true
      },
      "outputs": [
        {
          "data": {
            "text/plain": [
              "'The things I wanted were: \\n 1-Pencil \\n 2-Book \\n 3-Cat'"
            ]
          },
          "execution_count": 14,
          "metadata": {},
          "output_type": "execute_result"
        }
      ],
      "source": [
        "\"The things I wanted were: \\n 1-Pencil \\n 2-Book \\n 3-Cat\""
      ]
    },
    {
      "cell_type": "code",
      "execution_count": 15,
      "id": "fe64fd60-7bc6-4881-91a0-6aa9c38aa5c2",
      "metadata": {
        "trusted": true
      },
      "outputs": [
        {
          "name": "stdout",
          "output_type": "stream",
          "text": [
            "The things I wanted were: \n",
            " 1-Pencil \n",
            " 2-Book \n",
            " 3-Cat\n"
          ]
        }
      ],
      "source": [
        "print(\"The things I wanted were: \\n 1-Pencil \\n 2-Book \\n 3-Cat\")"
      ]
    },
    {
      "cell_type": "code",
      "execution_count": 16,
      "id": "21bc7eb0-0003-40e2-9ca4-4f64ab65f474",
      "metadata": {
        "trusted": true
      },
      "outputs": [],
      "source": [
        "#For making comment use '#' this operator like now."
      ]
    },
    {
      "cell_type": "code",
      "execution_count": 17,
      "id": "dd20709a-7854-4668-b514-5d710518cd39",
      "metadata": {
        "trusted": true
      },
      "outputs": [
        {
          "name": "stdout",
          "output_type": "stream",
          "text": [
            "This is a backslash = \\\n"
          ]
        }
      ],
      "source": [
        "#To print backslash you need to type it twice\n",
        "print(\"This is a backslash = \\\\\")"
      ]
    },
    {
      "cell_type": "code",
      "execution_count": 18,
      "id": "9622ddd5-7039-4d18-b623-80e70bf2e8f5",
      "metadata": {
        "trusted": true
      },
      "outputs": [
        {
          "data": {
            "text/plain": [
              "'53'"
            ]
          },
          "execution_count": 18,
          "metadata": {},
          "output_type": "execute_result"
        }
      ],
      "source": [
        "\"5\"+\"3\""
      ]
    },
    {
      "cell_type": "code",
      "execution_count": 19,
      "id": "892802f0-c8f4-4995-844b-4cd6aff2306c",
      "metadata": {
        "trusted": true
      },
      "outputs": [
        {
          "data": {
            "text/plain": [
              "\"Hey what's up?\""
            ]
          },
          "execution_count": 19,
          "metadata": {},
          "output_type": "execute_result"
        }
      ],
      "source": [
        "\"Hey\"+\" what\\'s up?\""
      ]
    },
    {
      "cell_type": "code",
      "execution_count": 20,
      "id": "1678e8a8-3059-44a9-96c2-50412aed74dd",
      "metadata": {
        "trusted": true
      },
      "outputs": [
        {
          "data": {
            "text/plain": [
              "1"
            ]
          },
          "execution_count": 20,
          "metadata": {},
          "output_type": "execute_result"
        }
      ],
      "source": [
        "len(\"4\")"
      ]
    },
    {
      "cell_type": "code",
      "execution_count": 21,
      "id": "0787e9c4-ebeb-4327-a65e-534a4b3ce417",
      "metadata": {
        "trusted": true
      },
      "outputs": [
        {
          "data": {
            "text/plain": [
              "2"
            ]
          },
          "execution_count": 21,
          "metadata": {},
          "output_type": "execute_result"
        }
      ],
      "source": [
        "len(\"4 \")"
      ]
    },
    {
      "cell_type": "markdown",
      "id": "4d195387-3859-4104-9fd2-2210e3a46a4b",
      "metadata": {},
      "source": [
        "Indexing\n"
      ]
    },
    {
      "cell_type": "code",
      "execution_count": 22,
      "id": "5662348c-eaed-4d80-b3ff-0f9689bbee42",
      "metadata": {
        "trusted": true
      },
      "outputs": [
        {
          "data": {
            "text/plain": [
              "'e'"
            ]
          },
          "execution_count": 22,
          "metadata": {},
          "output_type": "execute_result"
        }
      ],
      "source": [
        "\"Alperen\"[-2]"
      ]
    },
    {
      "cell_type": "code",
      "execution_count": 23,
      "id": "5bee7e2f-08ef-438b-87d2-d8a47ab59337",
      "metadata": {
        "trusted": true
      },
      "outputs": [
        {
          "data": {
            "text/plain": [
              "'A'"
            ]
          },
          "execution_count": 23,
          "metadata": {},
          "output_type": "execute_result"
        }
      ],
      "source": [
        "\"Alperen\"[0]"
      ]
    },
    {
      "cell_type": "markdown",
      "id": "8f5c22f0-eeb9-4a9e-900a-3362fb7fc2fb",
      "metadata": {},
      "source": [
        "Slicing"
      ]
    },
    {
      "cell_type": "code",
      "execution_count": 24,
      "id": "9fcb4e55-2010-4fd8-884a-2b7958484658",
      "metadata": {
        "trusted": true
      },
      "outputs": [
        {
          "data": {
            "text/plain": [
              "'Alp'"
            ]
          },
          "execution_count": 24,
          "metadata": {},
          "output_type": "execute_result"
        }
      ],
      "source": [
        "\"Alperen\"[:3]"
      ]
    },
    {
      "cell_type": "code",
      "execution_count": 25,
      "id": "0e895427-296d-4430-a6f8-567c7f5d19c5",
      "metadata": {
        "trusted": true
      },
      "outputs": [
        {
          "data": {
            "text/plain": [
              "'p'"
            ]
          },
          "execution_count": 25,
          "metadata": {},
          "output_type": "execute_result"
        }
      ],
      "source": [
        "\"Alperen\"[2:3]"
      ]
    },
    {
      "cell_type": "code",
      "execution_count": 26,
      "id": "5277bafc-825e-4109-8cd0-0c2de8a47cfc",
      "metadata": {
        "trusted": true
      },
      "outputs": [
        {
          "data": {
            "text/plain": [
              "'Alperen'"
            ]
          },
          "execution_count": 26,
          "metadata": {},
          "output_type": "execute_result"
        }
      ],
      "source": [
        "\"Alperen\"[0:]"
      ]
    },
    {
      "cell_type": "code",
      "execution_count": 27,
      "id": "5ca65527-4238-4ccc-96ae-e784c0708532",
      "metadata": {
        "trusted": true
      },
      "outputs": [
        {
          "data": {
            "text/plain": [
              "'Alperen'"
            ]
          },
          "execution_count": 27,
          "metadata": {},
          "output_type": "execute_result"
        }
      ],
      "source": [
        "\"Alperen\"[:]"
      ]
    },
    {
      "cell_type": "code",
      "execution_count": 28,
      "id": "a140d4c0-916b-4a63-a152-2b1bd9dbec99",
      "metadata": {
        "trusted": true
      },
      "outputs": [
        {
          "data": {
            "text/plain": [
              "'Alperen'"
            ]
          },
          "execution_count": 28,
          "metadata": {},
          "output_type": "execute_result"
        }
      ],
      "source": [
        "\"Alperen\"[:200]"
      ]
    },
    {
      "cell_type": "code",
      "execution_count": 29,
      "id": "28666a54-dcce-4a67-86ac-297e2ca5b299",
      "metadata": {
        "trusted": true
      },
      "outputs": [
        {
          "data": {
            "text/plain": [
              "'Aprn'"
            ]
          },
          "execution_count": 29,
          "metadata": {},
          "output_type": "execute_result"
        }
      ],
      "source": [
        "\"Alperen\"[:10:2]"
      ]
    },
    {
      "cell_type": "code",
      "execution_count": 30,
      "id": "3a36ed43-6443-4169-b53b-6f5fcc39ae9d",
      "metadata": {
        "trusted": true
      },
      "outputs": [
        {
          "data": {
            "text/plain": [
              "'nerepl'"
            ]
          },
          "execution_count": 30,
          "metadata": {},
          "output_type": "execute_result"
        }
      ],
      "source": [
        "\"Alperen\"[10:0:-1]"
      ]
    },
    {
      "cell_type": "code",
      "execution_count": 31,
      "id": "a3cb2bc5-23ce-439c-b8e3-501628c2688a",
      "metadata": {
        "trusted": true
      },
      "outputs": [
        {
          "data": {
            "text/plain": [
              "''"
            ]
          },
          "execution_count": 31,
          "metadata": {},
          "output_type": "execute_result"
        }
      ],
      "source": [
        "\"Alperen\"[10:-1:-1]"
      ]
    },
    {
      "cell_type": "code",
      "execution_count": 32,
      "id": "cce1bae2-6b15-48a3-9fd7-08cb3a378110",
      "metadata": {
        "trusted": true
      },
      "outputs": [
        {
          "data": {
            "text/plain": [
              "'nereplA'"
            ]
          },
          "execution_count": 32,
          "metadata": {},
          "output_type": "execute_result"
        }
      ],
      "source": [
        "\"Alperen\"[10::-1]"
      ]
    },
    {
      "cell_type": "code",
      "execution_count": 33,
      "id": "a785f4fa-31d2-4c64-aa89-0bceb0435913",
      "metadata": {
        "trusted": true
      },
      "outputs": [
        {
          "data": {
            "text/plain": [
              "'nereplA'"
            ]
          },
          "execution_count": 33,
          "metadata": {},
          "output_type": "execute_result"
        }
      ],
      "source": [
        "\"Alperen\"[::-1]"
      ]
    },
    {
      "cell_type": "code",
      "execution_count": 34,
      "id": "6b83eed0-2187-4d0c-b8ea-d2a84554bb56",
      "metadata": {
        "trusted": true
      },
      "outputs": [
        {
          "data": {
            "text/plain": [
              "'nrpA'"
            ]
          },
          "execution_count": 34,
          "metadata": {},
          "output_type": "execute_result"
        }
      ],
      "source": [
        "\"Alperen\"[::-2]"
      ]
    },
    {
      "cell_type": "markdown",
      "id": "8d3d8bb4-7632-48fa-a00b-5ca9d463bd40",
      "metadata": {},
      "source": [
        "Casting in Strings\n"
      ]
    },
    {
      "cell_type": "code",
      "execution_count": 35,
      "id": "c615e9da-19b2-4d6b-b1e5-00d211603137",
      "metadata": {
        "trusted": true
      },
      "outputs": [
        {
          "data": {
            "text/plain": [
              "5.0"
            ]
          },
          "execution_count": 35,
          "metadata": {},
          "output_type": "execute_result"
        }
      ],
      "source": [
        "float(5)"
      ]
    },
    {
      "cell_type": "code",
      "execution_count": 36,
      "id": "e9974301-0487-4470-9583-c8e22881f03b",
      "metadata": {
        "trusted": true
      },
      "outputs": [
        {
          "data": {
            "text/plain": [
              "5"
            ]
          },
          "execution_count": 36,
          "metadata": {},
          "output_type": "execute_result"
        }
      ],
      "source": [
        "int(5.0)"
      ]
    },
    {
      "cell_type": "code",
      "execution_count": 37,
      "id": "793ecf3f-36e7-4cfc-ad66-34afd516b454",
      "metadata": {
        "trusted": true
      },
      "outputs": [],
      "source": [
        "a = \"5\""
      ]
    },
    {
      "cell_type": "code",
      "execution_count": 38,
      "id": "5fb6f3fd-5916-424b-a4a1-d076057d0a41",
      "metadata": {
        "trusted": true
      },
      "outputs": [],
      "source": [
        "b = \"5.3\""
      ]
    },
    {
      "cell_type": "code",
      "execution_count": 39,
      "id": "da10d386-5b12-463d-a8b8-3d1bd174fda1",
      "metadata": {
        "trusted": true
      },
      "outputs": [
        {
          "data": {
            "text/plain": [
              "5"
            ]
          },
          "execution_count": 39,
          "metadata": {},
          "output_type": "execute_result"
        }
      ],
      "source": [
        "int(a)"
      ]
    },
    {
      "cell_type": "code",
      "execution_count": 40,
      "id": "dc8b1827-9bec-49de-9c36-0cc3c01f6c78",
      "metadata": {
        "trusted": true
      },
      "outputs": [
        {
          "data": {
            "text/plain": [
              "5.3"
            ]
          },
          "execution_count": 40,
          "metadata": {},
          "output_type": "execute_result"
        }
      ],
      "source": [
        "float(b)"
      ]
    },
    {
      "cell_type": "code",
      "execution_count": 41,
      "id": "97f5511c-4e13-424a-b9fc-da8b53a547aa",
      "metadata": {
        "trusted": true
      },
      "outputs": [
        {
          "data": {
            "text/plain": [
              "5"
            ]
          },
          "execution_count": 41,
          "metadata": {},
          "output_type": "execute_result"
        }
      ],
      "source": [
        "int(float(b))"
      ]
    },
    {
      "cell_type": "markdown",
      "id": "325d3f2b-8e9e-4d8a-bc09-1daab42f688f",
      "metadata": {},
      "source": [
        "Input"
      ]
    },
    {
      "cell_type": "code",
      "execution_count": 42,
      "id": "7f499f8e-a7ba-4f54-93e9-3e86db34e2dd",
      "metadata": {
        "trusted": true
      },
      "outputs": [],
      "source": [
        "x = input(\"Please enter a number\\n\")"
      ]
    },
    {
      "cell_type": "code",
      "execution_count": 43,
      "id": "3115fc34-fb1e-4cbb-bf9c-f582264b16f5",
      "metadata": {
        "trusted": true
      },
      "outputs": [
        {
          "name": "stdout",
          "output_type": "stream",
          "text": [
            "3\n"
          ]
        }
      ],
      "source": [
        "print(x)"
      ]
    },
    {
      "cell_type": "markdown",
      "id": "dc3aa472-314a-4566-9f14-23dccf81d175",
      "metadata": {},
      "source": [
        "Comment"
      ]
    },
    {
      "cell_type": "code",
      "execution_count": 44,
      "id": "16ae8991-f747-4ded-8b02-4fdd1a8c97ba",
      "metadata": {
        "trusted": true
      },
      "outputs": [],
      "source": [
        "#Either use this method"
      ]
    },
    {
      "cell_type": "code",
      "execution_count": 45,
      "id": "7cd677ca-1e46-41dc-88d8-f4e80b7028e8",
      "metadata": {
        "trusted": true
      },
      "outputs": [
        {
          "data": {
            "text/plain": [
              "'\\nor use this method\\n'"
            ]
          },
          "execution_count": 45,
          "metadata": {},
          "output_type": "execute_result"
        }
      ],
      "source": [
        "\"\"\"\n",
        "or use this method\n",
        "\"\"\""
      ]
    },
    {
      "cell_type": "markdown",
      "id": "86308fb0-0b8b-4b70-a271-ebac5ebba974",
      "metadata": {},
      "source": [
        "Operators(Same)"
      ]
    },
    {
      "cell_type": "code",
      "execution_count": 46,
      "id": "8e83b36d-c572-4daf-9091-fda4ceca6d27",
      "metadata": {
        "trusted": true
      },
      "outputs": [
        {
          "data": {
            "text/plain": [
              "True"
            ]
          },
          "execution_count": 46,
          "metadata": {},
          "output_type": "execute_result"
        }
      ],
      "source": [
        "1==1"
      ]
    },
    {
      "cell_type": "code",
      "execution_count": 47,
      "id": "225359a4-8158-468e-b3ac-35bd3a2ef230",
      "metadata": {
        "trusted": true
      },
      "outputs": [
        {
          "data": {
            "text/plain": [
              "False"
            ]
          },
          "execution_count": 47,
          "metadata": {},
          "output_type": "execute_result"
        }
      ],
      "source": [
        "1>=2"
      ]
    },
    {
      "cell_type": "code",
      "execution_count": 48,
      "id": "db255030-825a-4c63-b69d-6f66c326433c",
      "metadata": {
        "trusted": true
      },
      "outputs": [
        {
          "data": {
            "text/plain": [
              "True"
            ]
          },
          "execution_count": 48,
          "metadata": {},
          "output_type": "execute_result"
        }
      ],
      "source": [
        "2>=1"
      ]
    },
    {
      "cell_type": "markdown",
      "id": "6d16731b-32f4-49cc-b535-01a6ec41e72b",
      "metadata": {},
      "source": [
        "Operators for Strings"
      ]
    },
    {
      "cell_type": "code",
      "execution_count": 49,
      "id": "c52ffcd1-023a-493f-94e7-711e95a0b53a",
      "metadata": {
        "trusted": true
      },
      "outputs": [],
      "source": [
        "a = \"Mahmut\""
      ]
    },
    {
      "cell_type": "code",
      "execution_count": 50,
      "id": "a7beb3ab-3ab2-4a62-bcd0-77c3bea438ed",
      "metadata": {
        "trusted": true
      },
      "outputs": [],
      "source": [
        "b = \"Mahmut\""
      ]
    },
    {
      "cell_type": "code",
      "execution_count": 51,
      "id": "d914c97b-c977-42d6-a2db-1b14dcdb94c7",
      "metadata": {
        "trusted": true
      },
      "outputs": [
        {
          "data": {
            "text/plain": [
              "True"
            ]
          },
          "execution_count": 51,
          "metadata": {},
          "output_type": "execute_result"
        }
      ],
      "source": [
        "a == b"
      ]
    },
    {
      "cell_type": "code",
      "execution_count": 52,
      "id": "e6d43feb-6a36-4cc9-b24a-eea632a7789a",
      "metadata": {
        "trusted": true
      },
      "outputs": [],
      "source": [
        "c = \"mahmut\""
      ]
    },
    {
      "cell_type": "code",
      "execution_count": 53,
      "id": "2f3c0889-5639-4566-a140-003cf5db2498",
      "metadata": {
        "trusted": true
      },
      "outputs": [
        {
          "data": {
            "text/plain": [
              "False"
            ]
          },
          "execution_count": 53,
          "metadata": {},
          "output_type": "execute_result"
        }
      ],
      "source": [
        "a == c"
      ]
    },
    {
      "cell_type": "code",
      "execution_count": 54,
      "id": "4812b939-612b-4f1c-af2c-5172efdd7485",
      "metadata": {
        "trusted": true
      },
      "outputs": [
        {
          "data": {
            "text/plain": [
              "True"
            ]
          },
          "execution_count": 54,
          "metadata": {},
          "output_type": "execute_result"
        }
      ],
      "source": [
        "a != c"
      ]
    },
    {
      "cell_type": "code",
      "execution_count": 55,
      "id": "e5f3e254-ebc1-401b-833e-c7499dcc582d",
      "metadata": {
        "trusted": true
      },
      "outputs": [
        {
          "data": {
            "text/plain": [
              "True"
            ]
          },
          "execution_count": 55,
          "metadata": {},
          "output_type": "execute_result"
        }
      ],
      "source": [
        "\"a\" < \"b\""
      ]
    },
    {
      "cell_type": "code",
      "execution_count": 56,
      "id": "da22f3b4-e8db-4817-957b-88bb468694bd",
      "metadata": {
        "trusted": true
      },
      "outputs": [
        {
          "data": {
            "text/plain": [
              "True"
            ]
          },
          "execution_count": 56,
          "metadata": {},
          "output_type": "execute_result"
        }
      ],
      "source": [
        "\"ab\" < \"ac\""
      ]
    },
    {
      "cell_type": "markdown",
      "id": "6f2ecfb0-93be-48e1-8dd1-d6190c37ed78",
      "metadata": {},
      "source": [
        "Logical Operators"
      ]
    },
    {
      "cell_type": "code",
      "execution_count": 57,
      "id": "41c14f41-f007-4f8d-baa6-ee231c0adc79",
      "metadata": {
        "trusted": true
      },
      "outputs": [
        {
          "data": {
            "text/plain": [
              "False"
            ]
          },
          "execution_count": 57,
          "metadata": {},
          "output_type": "execute_result"
        }
      ],
      "source": [
        "not True"
      ]
    },
    {
      "cell_type": "code",
      "execution_count": 58,
      "id": "d1db2d24-aa85-4dd8-bbef-bd2e574f5fc0",
      "metadata": {
        "trusted": true
      },
      "outputs": [
        {
          "data": {
            "text/plain": [
              "True"
            ]
          },
          "execution_count": 58,
          "metadata": {},
          "output_type": "execute_result"
        }
      ],
      "source": [
        "not False"
      ]
    },
    {
      "cell_type": "code",
      "execution_count": 59,
      "id": "ba8d90f1-4c87-4832-b2c0-23cb9129211a",
      "metadata": {
        "trusted": true
      },
      "outputs": [
        {
          "data": {
            "text/plain": [
              "False"
            ]
          },
          "execution_count": 59,
          "metadata": {},
          "output_type": "execute_result"
        }
      ],
      "source": [
        "not 5<6"
      ]
    },
    {
      "cell_type": "code",
      "execution_count": 60,
      "id": "f31d9e06-48cd-4c48-8b22-2dd0fae38bf6",
      "metadata": {
        "trusted": true
      },
      "outputs": [
        {
          "data": {
            "text/plain": [
              "False"
            ]
          },
          "execution_count": 60,
          "metadata": {},
          "output_type": "execute_result"
        }
      ],
      "source": [
        "not 7==7"
      ]
    },
    {
      "cell_type": "markdown",
      "id": "a6d1f72f-d157-4f39-b16a-d9080baf29cf",
      "metadata": {},
      "source": [
        "And Operator (Like &&)"
      ]
    },
    {
      "cell_type": "code",
      "execution_count": 61,
      "id": "6bfaeb82-c807-4e31-bdb8-3d7f28ff2e4d",
      "metadata": {
        "trusted": true
      },
      "outputs": [
        {
          "data": {
            "text/plain": [
              "True"
            ]
          },
          "execution_count": 61,
          "metadata": {},
          "output_type": "execute_result"
        }
      ],
      "source": [
        "True and True"
      ]
    },
    {
      "cell_type": "code",
      "execution_count": 62,
      "id": "4244d2c1-d9e6-48b8-8ae9-60e03b50daf1",
      "metadata": {
        "trusted": true
      },
      "outputs": [
        {
          "data": {
            "text/plain": [
              "False"
            ]
          },
          "execution_count": 62,
          "metadata": {},
          "output_type": "execute_result"
        }
      ],
      "source": [
        "False and True"
      ]
    },
    {
      "cell_type": "code",
      "execution_count": 63,
      "id": "5ad6e3f4-ce5f-4625-8e52-dc81d966984c",
      "metadata": {
        "trusted": true
      },
      "outputs": [
        {
          "data": {
            "text/plain": [
              "False"
            ]
          },
          "execution_count": 63,
          "metadata": {},
          "output_type": "execute_result"
        }
      ],
      "source": [
        "True and False"
      ]
    },
    {
      "cell_type": "code",
      "execution_count": 64,
      "id": "84dee205-e164-41cf-b91b-abf6efb67456",
      "metadata": {
        "trusted": true
      },
      "outputs": [
        {
          "data": {
            "text/plain": [
              "False"
            ]
          },
          "execution_count": 64,
          "metadata": {},
          "output_type": "execute_result"
        }
      ],
      "source": [
        "False and False"
      ]
    },
    {
      "cell_type": "code",
      "execution_count": 65,
      "id": "1ffe0d51-22ab-4893-a18b-f9abfb3f280a",
      "metadata": {
        "trusted": true
      },
      "outputs": [],
      "source": [
        "a=1\n",
        "b=2\n",
        "c=3"
      ]
    },
    {
      "cell_type": "code",
      "execution_count": 66,
      "id": "ac82b7bd-2257-46d6-93a2-02d0a80e9df5",
      "metadata": {
        "trusted": true
      },
      "outputs": [
        {
          "data": {
            "text/plain": [
              "True"
            ]
          },
          "execution_count": 66,
          "metadata": {},
          "output_type": "execute_result"
        }
      ],
      "source": [
        "(c>b) and (c>a)"
      ]
    },
    {
      "cell_type": "code",
      "execution_count": 67,
      "id": "98a3d50b-2fb7-4af5-8f7c-008d84c53cdf",
      "metadata": {
        "trusted": true
      },
      "outputs": [
        {
          "data": {
            "text/plain": [
              "False"
            ]
          },
          "execution_count": 67,
          "metadata": {},
          "output_type": "execute_result"
        }
      ],
      "source": [
        "(b>a) and (b>c)"
      ]
    },
    {
      "cell_type": "markdown",
      "id": "bc795a71-c9a2-43e1-95d5-a4c3253e2093",
      "metadata": {},
      "source": [
        "Or Operator (Like ||)"
      ]
    },
    {
      "cell_type": "code",
      "execution_count": 68,
      "id": "82990100-d547-4692-b16f-e6dd2cfb5145",
      "metadata": {
        "trusted": true
      },
      "outputs": [
        {
          "data": {
            "text/plain": [
              "True"
            ]
          },
          "execution_count": 68,
          "metadata": {},
          "output_type": "execute_result"
        }
      ],
      "source": [
        "True or True"
      ]
    },
    {
      "cell_type": "code",
      "execution_count": 69,
      "id": "05b88c85-0c8a-4d20-8cc8-e7bb7b6ba80d",
      "metadata": {
        "trusted": true
      },
      "outputs": [
        {
          "data": {
            "text/plain": [
              "True"
            ]
          },
          "execution_count": 69,
          "metadata": {},
          "output_type": "execute_result"
        }
      ],
      "source": [
        "True or False"
      ]
    },
    {
      "cell_type": "code",
      "execution_count": 70,
      "id": "5e14e7fd-b982-446e-a1ba-987c33b257e8",
      "metadata": {
        "trusted": true
      },
      "outputs": [
        {
          "data": {
            "text/plain": [
              "False"
            ]
          },
          "execution_count": 70,
          "metadata": {},
          "output_type": "execute_result"
        }
      ],
      "source": [
        "False or False"
      ]
    },
    {
      "cell_type": "code",
      "execution_count": 71,
      "id": "40b546fc-7acf-4558-9967-269395dacefd",
      "metadata": {
        "trusted": true
      },
      "outputs": [
        {
          "data": {
            "text/plain": [
              "True"
            ]
          },
          "execution_count": 71,
          "metadata": {},
          "output_type": "execute_result"
        }
      ],
      "source": [
        "(5==5) or (5>5)"
      ]
    },
    {
      "cell_type": "markdown",
      "id": "3c343b68-7058-4c94-b063-49c5d02f9a05",
      "metadata": {},
      "source": [
        "Short-Circuit"
      ]
    },
    {
      "cell_type": "code",
      "execution_count": 72,
      "id": "c8352078-9459-48f7-94ab-0261dcaf5365",
      "metadata": {
        "trusted": true
      },
      "outputs": [
        {
          "data": {
            "text/plain": [
              "False"
            ]
          },
          "execution_count": 72,
          "metadata": {},
          "output_type": "execute_result"
        }
      ],
      "source": [
        "(5<3) and print(\"hey\")"
      ]
    },
    {
      "cell_type": "code",
      "execution_count": 73,
      "id": "2d9a3605-7462-4923-9e96-435b73a7ccfe",
      "metadata": {
        "trusted": true
      },
      "outputs": [
        {
          "name": "stdout",
          "output_type": "stream",
          "text": [
            "hey\n"
          ]
        }
      ],
      "source": [
        "(5>3) and print(\"hey\")"
      ]
    },
    {
      "cell_type": "code",
      "execution_count": 74,
      "id": "5e20f08e-53c6-4ae2-a56f-d2bd17dde66b",
      "metadata": {
        "trusted": true
      },
      "outputs": [
        {
          "data": {
            "text/plain": [
              "True"
            ]
          },
          "execution_count": 74,
          "metadata": {},
          "output_type": "execute_result"
        }
      ],
      "source": [
        "(5>3) or print(\"hey\")"
      ]
    },
    {
      "cell_type": "code",
      "execution_count": 75,
      "id": "7f7a04a9-7d4b-49f9-a92b-c89d84597fb0",
      "metadata": {
        "trusted": true
      },
      "outputs": [
        {
          "name": "stdout",
          "output_type": "stream",
          "text": [
            "hey\n"
          ]
        }
      ],
      "source": [
        "(5<3) or print(\"hey\")"
      ]
    },
    {
      "cell_type": "markdown",
      "id": "94c8216e-bc9b-4864-8dfd-24d4d008a828",
      "metadata": {},
      "source": [
        "&"
      ]
    },
    {
      "cell_type": "code",
      "execution_count": 76,
      "id": "604afc30-dd17-400f-9de9-76bc7a6e94d4",
      "metadata": {
        "trusted": true
      },
      "outputs": [
        {
          "data": {
            "text/plain": [
              "True"
            ]
          },
          "execution_count": 76,
          "metadata": {},
          "output_type": "execute_result"
        }
      ],
      "source": [
        "(2==2) & (3==3)"
      ]
    },
    {
      "cell_type": "markdown",
      "id": "bb71f5af-f283-4cf9-98a2-d84f7796ceb1",
      "metadata": {},
      "source": [
        "|"
      ]
    },
    {
      "cell_type": "code",
      "execution_count": 77,
      "id": "62f2cf64-b4e3-40d8-b7db-3c908f8f02dc",
      "metadata": {
        "trusted": true
      },
      "outputs": [
        {
          "data": {
            "text/plain": [
              "True"
            ]
          },
          "execution_count": 77,
          "metadata": {},
          "output_type": "execute_result"
        }
      ],
      "source": [
        "(2==2) | (3>3)"
      ]
    },
    {
      "cell_type": "markdown",
      "id": "2cbb33ef-25d6-4e84-9665-26ffa94166c3",
      "metadata": {},
      "source": [
        "if - elif - else"
      ]
    },
    {
      "cell_type": "code",
      "execution_count": 78,
      "id": "2da7cae8-b8c2-43fe-a24d-fec293fc070d",
      "metadata": {
        "trusted": true
      },
      "outputs": [
        {
          "name": "stdout",
          "output_type": "stream",
          "text": [
            "11\n",
            "The number is bigger than 10\n",
            "Program ends\n"
          ]
        }
      ],
      "source": [
        "x = int(input(\"Please enter a number : \"))\n",
        "\n",
        "print(x)\n",
        "\n",
        "if x < 10:\n",
        "    print(\"The number is smaller than 10\")\n",
        "\n",
        "elif x == 10:\n",
        "    print(\"The number is equals to 10\")\n",
        "else:\n",
        "    print(\"The number is bigger than 10\")\n",
        "\n",
        "print(\"Program ends\")"
      ]
    },
    {
      "cell_type": "markdown",
      "id": "85b2a332",
      "metadata": {},
      "source": [
        "Nested if"
      ]
    },
    {
      "cell_type": "code",
      "execution_count": 80,
      "id": "e7e39177",
      "metadata": {},
      "outputs": [
        {
          "name": "stdout",
          "output_type": "stream",
          "text": [
            "6\n",
            "2x,3x\n",
            "Program ends\n"
          ]
        }
      ],
      "source": [
        "x = int(input(\"Please enter a number : \"))\n",
        "\n",
        "print(x)\n",
        "\n",
        "if x % 3 == 0:\n",
        "    if x % 2 == 0:\n",
        "        print(\"2x,3x\")\n",
        "    else:\n",
        "        print(\"Only 3x\")\n",
        "else:\n",
        "    print(\"Not even 3x\")\n",
        "\n",
        "print(\"Program ends\")"
      ]
    },
    {
      "cell_type": "markdown",
      "id": "5edf62fe",
      "metadata": {},
      "source": [
        "Ternary Conditionals"
      ]
    },
    {
      "cell_type": "code",
      "execution_count": 82,
      "id": "62aa6fef",
      "metadata": {},
      "outputs": [
        {
          "name": "stdout",
          "output_type": "stream",
          "text": [
            "y\n",
            "2\n"
          ]
        }
      ],
      "source": [
        "answer = input(\"Shall we make the value of x is 2? (y/n): \")\n",
        "\n",
        "print(answer)\n",
        "\n",
        "if answer == \"y\":\n",
        "    x = 2\n",
        "else:\n",
        "    x = 0\n",
        "\n",
        "print(x)"
      ]
    },
    {
      "cell_type": "markdown",
      "id": "ee7c4748",
      "metadata": {},
      "source": [
        "Loops"
      ]
    },
    {
      "cell_type": "markdown",
      "id": "8732ae3a",
      "metadata": {},
      "source": [
        "While"
      ]
    },
    {
      "cell_type": "code",
      "execution_count": 1,
      "id": "1a047e5e",
      "metadata": {},
      "outputs": [
        {
          "name": "stdout",
          "output_type": "stream",
          "text": [
            "The number is 0, Please enter a number above 0.\n",
            "Your number is above 0 and  10\n"
          ]
        }
      ],
      "source": [
        "x = int(input(\"Please enter a number : \"))\n",
        "\n",
        "while x < 1:\n",
        "    print(\"The number is 0, Please enter a number above 0.\")\n",
        "    x = int(input(\"Please enter a number : \"))\n",
        "\n",
        "print(\"Your number is above 0 and \",x)"
      ]
    },
    {
      "cell_type": "code",
      "execution_count": 2,
      "id": "6b207230",
      "metadata": {},
      "outputs": [
        {
          "name": "stdout",
          "output_type": "stream",
          "text": [
            "0\n",
            "1\n",
            "2\n",
            "3\n",
            "4\n",
            "5\n",
            "6\n",
            "7\n",
            "8\n",
            "9\n"
          ]
        }
      ],
      "source": [
        "x = 0\n",
        "\n",
        "while x<10:\n",
        "    print(x)\n",
        "    x+=1\n",
        "    "
      ]
    },
    {
      "cell_type": "markdown",
      "id": "8e227c18",
      "metadata": {},
      "source": [
        "for"
      ]
    },
    {
      "cell_type": "code",
      "execution_count": 3,
      "id": "a7eed6ec",
      "metadata": {},
      "outputs": [
        {
          "name": "stdout",
          "output_type": "stream",
          "text": [
            "H\n",
            "e\n",
            "l\n",
            "l\n",
            "o\n",
            " \n",
            "W\n",
            "o\n",
            "r\n",
            "l\n",
            "d\n",
            "!\n"
          ]
        }
      ],
      "source": [
        "for c in \"Hello World!\":\n",
        "    print(c)"
      ]
    },
    {
      "cell_type": "code",
      "execution_count": 4,
      "id": "d949596d",
      "metadata": {},
      "outputs": [
        {
          "name": "stdout",
          "output_type": "stream",
          "text": [
            "0\n",
            "1\n",
            "2\n",
            "3\n",
            "4\n",
            "5\n",
            "6\n",
            "7\n",
            "8\n",
            "9\n"
          ]
        }
      ],
      "source": [
        "for x in range(10):\n",
        "    print(x)"
      ]
    },
    {
      "cell_type": "code",
      "execution_count": 9,
      "id": "481ab97b",
      "metadata": {},
      "outputs": [
        {
          "name": "stdout",
          "output_type": "stream",
          "text": [
            "125\n"
          ]
        }
      ],
      "source": [
        "x = 1\n",
        "\n",
        "for i in range(3):\n",
        "    x *= 5\n",
        "\n",
        "print(x)"
      ]
    },
    {
      "cell_type": "markdown",
      "id": "d9e40828",
      "metadata": {},
      "source": [
        "For vs While"
      ]
    },
    {
      "cell_type": "code",
      "execution_count": 11,
      "id": "bd5a792c",
      "metadata": {},
      "outputs": [
        {
          "name": "stdout",
          "output_type": "stream",
          "text": [
            "h\n",
            "e\n",
            "y\n"
          ]
        }
      ],
      "source": [
        "s = \"hey\"\n",
        "\n",
        "for c in s:\n",
        "    print(c)"
      ]
    },
    {
      "cell_type": "code",
      "execution_count": 12,
      "id": "ee78fd07",
      "metadata": {},
      "outputs": [
        {
          "name": "stdout",
          "output_type": "stream",
          "text": [
            "h\n",
            "e\n",
            "y\n"
          ]
        }
      ],
      "source": [
        "n = len(s)\n",
        "index = 0\n",
        "\n",
        "while index < n:\n",
        "    print(s[index])\n",
        "    index += 1"
      ]
    },
    {
      "cell_type": "markdown",
      "id": "a813d7e3",
      "metadata": {},
      "source": [
        "Break"
      ]
    },
    {
      "cell_type": "code",
      "execution_count": 13,
      "id": "ae411d93",
      "metadata": {},
      "outputs": [
        {
          "name": "stdout",
          "output_type": "stream",
          "text": [
            "0\n",
            "1\n",
            "2\n"
          ]
        }
      ],
      "source": [
        "for i in range(10):\n",
        "    if i == 3:\n",
        "        break\n",
        "    print(i)"
      ]
    },
    {
      "cell_type": "code",
      "execution_count": 14,
      "id": "9d0f8399",
      "metadata": {},
      "outputs": [
        {
          "name": "stdout",
          "output_type": "stream",
          "text": [
            "1\n",
            "2\n"
          ]
        }
      ],
      "source": [
        "x = 0\n",
        "\n",
        "while x < 10:\n",
        "    x += 1\n",
        "\n",
        "    if x == 3:\n",
        "        break\n",
        "\n",
        "    print(x)"
      ]
    },
    {
      "cell_type": "markdown",
      "id": "d4fe7093",
      "metadata": {},
      "source": [
        "Continue"
      ]
    },
    {
      "cell_type": "code",
      "execution_count": 15,
      "id": "09017db2",
      "metadata": {},
      "outputs": [
        {
          "name": "stdout",
          "output_type": "stream",
          "text": [
            "0\n",
            "1\n",
            "2\n",
            "4\n",
            "5\n",
            "6\n",
            "7\n",
            "8\n",
            "9\n"
          ]
        }
      ],
      "source": [
        "for i in range(10):\n",
        "    if i == 3:\n",
        "        continue\n",
        "    print(i)"
      ]
    }
  ],
  "metadata": {
    "kernelspec": {
      "display_name": "Python 3",
      "language": "python",
      "name": "python3"
    },
    "language_info": {
      "codemirror_mode": {
        "name": "ipython",
        "version": 3
      },
      "file_extension": ".py",
      "mimetype": "text/x-python",
      "name": "python",
      "nbconvert_exporter": "python",
      "pygments_lexer": "ipython3",
      "version": "3.12.4"
    }
  },
  "nbformat": 4,
  "nbformat_minor": 5
}

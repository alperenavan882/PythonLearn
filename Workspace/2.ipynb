{
 "cells": [
  {
   "cell_type": "markdown",
   "metadata": {},
   "source": [
    "Lists"
   ]
  },
  {
   "cell_type": "code",
   "execution_count": 4,
   "metadata": {},
   "outputs": [
    {
     "name": "stdout",
     "output_type": "stream",
     "text": [
      "12\n",
      "24\n",
      "36\n",
      "48\n"
     ]
    }
   ],
   "source": [
    "notes = [12,24,36,48]\n",
    "\n",
    "for c in range(4):\n",
    "    print(notes[c])"
   ]
  },
  {
   "cell_type": "code",
   "execution_count": 5,
   "metadata": {},
   "outputs": [
    {
     "name": "stdout",
     "output_type": "stream",
     "text": [
      "12\n",
      "24\n"
     ]
    }
   ],
   "source": [
    "student1 = 12\n",
    "student2 = 24\n",
    "\n",
    "studentNotes = [student1,student2]\n",
    "\n",
    "for c in range(2):\n",
    "    print(studentNotes[c])"
   ]
  },
  {
   "cell_type": "code",
   "execution_count": 6,
   "metadata": {},
   "outputs": [],
   "source": [
    "# Lists can store different kinds of data\n",
    "\n",
    "differents = [1,2,\"a\",\"b\",True,4.5,[1,2,3]]"
   ]
  },
  {
   "cell_type": "code",
   "execution_count": 17,
   "metadata": {},
   "outputs": [
    {
     "name": "stdout",
     "output_type": "stream",
     "text": [
      "24\n",
      "48\n",
      "[12, 24, 36, 48]\n",
      "[24, 36, 48]\n",
      "[12, 24, 36, 48]\n"
     ]
    }
   ],
   "source": [
    "# Lists has also Indexing and Slicing\n",
    "\n",
    "print(notes[1])\n",
    "\n",
    "print(notes[-1])\n",
    "\n",
    "print(notes[0:4])\n",
    "\n",
    "print(notes[1:])\n",
    "\n",
    "print(notes[:4])"
   ]
  },
  {
   "cell_type": "code",
   "execution_count": 24,
   "metadata": {},
   "outputs": [
    {
     "name": "stdout",
     "output_type": "stream",
     "text": [
      "1\n",
      "2\n",
      "8\n",
      "9\n"
     ]
    }
   ],
   "source": [
    "# Lists are mutable data types\n",
    "\n",
    "values = [1,4]\n",
    "\n",
    "print(values[0])\n",
    "\n",
    "values[0] += 1\n",
    "\n",
    "print(values[0])\n",
    "\n",
    "values[0:] = [8,9]\n",
    "\n",
    "for c in range(2):\n",
    "    print(values[c])\n"
   ]
  },
  {
   "cell_type": "markdown",
   "metadata": {},
   "source": [
    "LEN"
   ]
  },
  {
   "cell_type": "code",
   "execution_count": 41,
   "metadata": {},
   "outputs": [
    {
     "data": {
      "text/plain": [
       "3"
      ]
     },
     "execution_count": 41,
     "metadata": {},
     "output_type": "execute_result"
    }
   ],
   "source": [
    "# len() can give the length of elements of lists\n",
    "\n",
    "threeLen = [1,2,3]\n",
    "\n",
    "len(threeLen)"
   ]
  },
  {
   "cell_type": "markdown",
   "metadata": {},
   "source": [
    "APPEND"
   ]
  },
  {
   "cell_type": "code",
   "execution_count": 42,
   "metadata": {},
   "outputs": [
    {
     "name": "stdout",
     "output_type": "stream",
     "text": [
      "1\n",
      "2\n",
      "3\n",
      "4\n"
     ]
    }
   ],
   "source": [
    "# append() adds element at the end of the list\n",
    "\n",
    "threeLen.append(4)\n",
    "\n",
    "for c in range(4):\n",
    "    print(threeLen[c])"
   ]
  },
  {
   "cell_type": "markdown",
   "metadata": {},
   "source": [
    "EXTEND"
   ]
  },
  {
   "cell_type": "code",
   "execution_count": 43,
   "metadata": {},
   "outputs": [
    {
     "name": "stdout",
     "output_type": "stream",
     "text": [
      "1\n",
      "2\n",
      "3\n",
      "4\n",
      "5\n",
      "6\n"
     ]
    }
   ],
   "source": [
    "# extend() adds elements at the end of the list\n",
    "\n",
    "threeLen.extend([5,6])\n",
    "\n",
    "for c in range(6):\n",
    "    print(threeLen[c])"
   ]
  },
  {
   "cell_type": "markdown",
   "metadata": {},
   "source": [
    "INSERT"
   ]
  },
  {
   "cell_type": "code",
   "execution_count": 44,
   "metadata": {},
   "outputs": [
    {
     "name": "stdout",
     "output_type": "stream",
     "text": [
      "1\n",
      "2\n",
      "3\n",
      "4\n",
      "100\n",
      "5\n",
      "6\n"
     ]
    }
   ],
   "source": [
    "# insert() is using if the desire is to add an element at spesific index \n",
    "\n",
    "threeLen.insert(4,100)\n",
    "\n",
    "for c in range(7):\n",
    "    print(threeLen[c])"
   ]
  },
  {
   "cell_type": "markdown",
   "metadata": {},
   "source": [
    "REMOVE"
   ]
  },
  {
   "cell_type": "code",
   "execution_count": 46,
   "metadata": {},
   "outputs": [
    {
     "name": "stdout",
     "output_type": "stream",
     "text": [
      "1\n",
      "2\n",
      "3\n",
      "4\n",
      "5\n",
      "6\n"
     ]
    }
   ],
   "source": [
    "# remove() is using to delete an element from list\n",
    "\n",
    "threeLen.remove(100)\n",
    "\n",
    "for c in range(6):\n",
    "    print(threeLen[c])"
   ]
  },
  {
   "cell_type": "markdown",
   "metadata": {},
   "source": [
    "POP"
   ]
  },
  {
   "cell_type": "code",
   "execution_count": 47,
   "metadata": {},
   "outputs": [
    {
     "name": "stdout",
     "output_type": "stream",
     "text": [
      "1\n",
      "3\n"
     ]
    }
   ],
   "source": [
    "# pop() deletes the element but after deleting it can also returning that element's value\n",
    "\n",
    "lenExample = [1,2,3]\n",
    "\n",
    "lenExample.pop(1)\n",
    "\n",
    "for c in range(2):\n",
    "    print(lenExample[c])"
   ]
  },
  {
   "cell_type": "markdown",
   "metadata": {},
   "source": [
    "COUNT"
   ]
  },
  {
   "cell_type": "code",
   "execution_count": 50,
   "metadata": {},
   "outputs": [
    {
     "name": "stdout",
     "output_type": "stream",
     "text": [
      "3\n",
      "0\n"
     ]
    }
   ],
   "source": [
    "# count() shows that how many times an element can be seen in the list\n",
    "\n",
    "lenExample2 = [1,1,1]\n",
    "\n",
    "print(lenExample2.count(1))\n",
    "\n",
    "print(lenExample2.count(2))"
   ]
  },
  {
   "cell_type": "markdown",
   "metadata": {},
   "source": [
    "COPY"
   ]
  },
  {
   "cell_type": "code",
   "execution_count": 51,
   "metadata": {},
   "outputs": [
    {
     "name": "stdout",
     "output_type": "stream",
     "text": [
      "1\n",
      "2\n",
      "3\n"
     ]
    }
   ],
   "source": [
    "# copy() copies the list\n",
    "\n",
    "lenExample3 = [1,2,3]\n",
    "\n",
    "lenExample4 = lenExample3.copy()\n",
    "\n",
    "for c in range(3):\n",
    "    print(lenExample4[c])"
   ]
  },
  {
   "cell_type": "markdown",
   "metadata": {},
   "source": [
    "CONCENTENATION"
   ]
  },
  {
   "cell_type": "code",
   "execution_count": 52,
   "metadata": {},
   "outputs": [
    {
     "name": "stdout",
     "output_type": "stream",
     "text": [
      "1\n",
      "2\n",
      "3\n",
      "4\n",
      "5\n",
      "6\n"
     ]
    }
   ],
   "source": [
    "# + operator makes concentenation \n",
    "\n",
    "lenExample5 = [1,2,3]\n",
    "\n",
    "lenExample6 = [4,5,6]\n",
    "\n",
    "lenExample7 =[]\n",
    "\n",
    "lenExample7 = lenExample5 + lenExample6\n",
    "\n",
    "for c in range(6):\n",
    "    print(lenExample7[c])"
   ]
  },
  {
   "cell_type": "markdown",
   "metadata": {},
   "source": [
    "INDEX"
   ]
  },
  {
   "cell_type": "code",
   "execution_count": 54,
   "metadata": {},
   "outputs": [
    {
     "name": "stdout",
     "output_type": "stream",
     "text": [
      "4\n"
     ]
    }
   ],
   "source": [
    "# index(x) shows x which index it is at seen\n",
    "\n",
    "lenExample8 = [1,2,3,4,5]\n",
    "\n",
    "print(lenExample8.index(5))"
   ]
  },
  {
   "cell_type": "markdown",
   "metadata": {},
   "source": [
    "REVERSE"
   ]
  },
  {
   "cell_type": "code",
   "execution_count": 57,
   "metadata": {},
   "outputs": [
    {
     "name": "stdout",
     "output_type": "stream",
     "text": [
      "5\n",
      "4\n",
      "3\n",
      "2\n",
      "1\n"
     ]
    }
   ],
   "source": [
    "# reverse() reverses the list\n",
    "\n",
    "lenExample8.reverse()\n",
    "\n",
    "for c in range (5):\n",
    "    print(lenExample8[c])"
   ]
  },
  {
   "cell_type": "markdown",
   "metadata": {},
   "source": [
    "SORTED"
   ]
  },
  {
   "cell_type": "code",
   "execution_count": 60,
   "metadata": {},
   "outputs": [
    {
     "name": "stdout",
     "output_type": "stream",
     "text": [
      "b\n",
      "c\n",
      "a\n"
     ]
    },
    {
     "data": {
      "text/plain": [
       "['a', 'b', 'c']"
      ]
     },
     "execution_count": 60,
     "metadata": {},
     "output_type": "execute_result"
    }
   ],
   "source": [
    "# sorted() makes the list ascending order whether it is alphabetically or numerical list but it doesnt update original list\n",
    "\n",
    "lenExample9 = [\"b\",\"c\",\"a\"]\n",
    "\n",
    "sorted(lenExample9)\n",
    "\n",
    "for c in range(3):\n",
    "    print(lenExample9[c])\n",
    "\n",
    "sorted(lenExample9)"
   ]
  },
  {
   "cell_type": "markdown",
   "metadata": {},
   "source": [
    "SORT"
   ]
  },
  {
   "cell_type": "code",
   "execution_count": 66,
   "metadata": {},
   "outputs": [
    {
     "name": "stdout",
     "output_type": "stream",
     "text": [
      "a\n",
      "b\n",
      "c\n"
     ]
    }
   ],
   "source": [
    "# sort() instead of sorted() this makes inplacing in list\n",
    "\n",
    "lenExample10 = [\"b\",\"c\",\"a\"]\n",
    "\n",
    "lenExample10.sort()\n",
    "\n",
    "for c in range(3):\n",
    "    print(lenExample10[c])"
   ]
  },
  {
   "cell_type": "code",
   "execution_count": 75,
   "metadata": {},
   "outputs": [
    {
     "name": "stdout",
     "output_type": "stream",
     "text": [
      "0.5\n",
      "1\n",
      "2\n",
      "3\n",
      "a\n",
      "b\n",
      "c\n"
     ]
    }
   ],
   "source": [
    "lenExample11 = [\"b\",\"c\",\"a\",\"3\",\"2\",\"1\",\"0.5\"]\n",
    "\n",
    "lenExample11.sort()\n",
    "\n",
    "for c in range(7):\n",
    "    print(lenExample11[c])"
   ]
  }
 ],
 "metadata": {
  "kernelspec": {
   "display_name": "Python 3",
   "language": "python",
   "name": "python3"
  },
  "language_info": {
   "codemirror_mode": {
    "name": "ipython",
    "version": 3
   },
   "file_extension": ".py",
   "mimetype": "text/x-python",
   "name": "python",
   "nbconvert_exporter": "python",
   "pygments_lexer": "ipython3",
   "version": "3.12.4"
  }
 },
 "nbformat": 4,
 "nbformat_minor": 2
}

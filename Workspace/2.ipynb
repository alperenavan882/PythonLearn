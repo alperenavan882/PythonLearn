{
 "cells": [
  {
   "cell_type": "markdown",
   "metadata": {},
   "source": [
    "Lists"
   ]
  },
  {
   "cell_type": "code",
   "execution_count": 4,
   "metadata": {},
   "outputs": [
    {
     "name": "stdout",
     "output_type": "stream",
     "text": [
      "12\n",
      "24\n",
      "36\n",
      "48\n"
     ]
    }
   ],
   "source": [
    "notes = [12,24,36,48]\n",
    "\n",
    "for c in range(4):\n",
    "    print(notes[c])"
   ]
  },
  {
   "cell_type": "code",
   "execution_count": 5,
   "metadata": {},
   "outputs": [
    {
     "name": "stdout",
     "output_type": "stream",
     "text": [
      "12\n",
      "24\n"
     ]
    }
   ],
   "source": [
    "student1 = 12\n",
    "student2 = 24\n",
    "\n",
    "studentNotes = [student1,student2]\n",
    "\n",
    "for c in range(2):\n",
    "    print(studentNotes[c])"
   ]
  },
  {
   "cell_type": "code",
   "execution_count": 6,
   "metadata": {},
   "outputs": [],
   "source": [
    "# Lists can store different kinds of data\n",
    "\n",
    "differents = [1,2,\"a\",\"b\",True,4.5,[1,2,3]]"
   ]
  },
  {
   "cell_type": "code",
   "execution_count": 17,
   "metadata": {},
   "outputs": [
    {
     "name": "stdout",
     "output_type": "stream",
     "text": [
      "24\n",
      "48\n",
      "[12, 24, 36, 48]\n",
      "[24, 36, 48]\n",
      "[12, 24, 36, 48]\n"
     ]
    }
   ],
   "source": [
    "# Lists has also Indexing and Slicing\n",
    "\n",
    "print(notes[1])\n",
    "\n",
    "print(notes[-1])\n",
    "\n",
    "print(notes[0:4])\n",
    "\n",
    "print(notes[1:])\n",
    "\n",
    "print(notes[:4])"
   ]
  },
  {
   "cell_type": "code",
   "execution_count": 24,
   "metadata": {},
   "outputs": [
    {
     "name": "stdout",
     "output_type": "stream",
     "text": [
      "1\n",
      "2\n",
      "8\n",
      "9\n"
     ]
    }
   ],
   "source": [
    "# Lists are mutable data types\n",
    "\n",
    "values = [1,4]\n",
    "\n",
    "print(values[0])\n",
    "\n",
    "values[0] += 1\n",
    "\n",
    "print(values[0])\n",
    "\n",
    "values[0:] = [8,9]\n",
    "\n",
    "for c in range(2):\n",
    "    print(values[c])\n"
   ]
  },
  {
   "cell_type": "markdown",
   "metadata": {},
   "source": [
    "LEN"
   ]
  },
  {
   "cell_type": "code",
   "execution_count": 41,
   "metadata": {},
   "outputs": [
    {
     "data": {
      "text/plain": [
       "3"
      ]
     },
     "execution_count": 41,
     "metadata": {},
     "output_type": "execute_result"
    }
   ],
   "source": [
    "# len() can give the length of elements of lists\n",
    "\n",
    "threeLen = [1,2,3]\n",
    "\n",
    "len(threeLen)"
   ]
  },
  {
   "cell_type": "markdown",
   "metadata": {},
   "source": [
    "APPEND"
   ]
  },
  {
   "cell_type": "code",
   "execution_count": 42,
   "metadata": {},
   "outputs": [
    {
     "name": "stdout",
     "output_type": "stream",
     "text": [
      "1\n",
      "2\n",
      "3\n",
      "4\n"
     ]
    }
   ],
   "source": [
    "# append() adds element at the end of the list\n",
    "\n",
    "threeLen.append(4)\n",
    "\n",
    "for c in range(4):\n",
    "    print(threeLen[c])"
   ]
  },
  {
   "cell_type": "markdown",
   "metadata": {},
   "source": [
    "EXTEND"
   ]
  },
  {
   "cell_type": "code",
   "execution_count": 43,
   "metadata": {},
   "outputs": [
    {
     "name": "stdout",
     "output_type": "stream",
     "text": [
      "1\n",
      "2\n",
      "3\n",
      "4\n",
      "5\n",
      "6\n"
     ]
    }
   ],
   "source": [
    "# extend() adds elements at the end of the list\n",
    "\n",
    "threeLen.extend([5,6])\n",
    "\n",
    "for c in range(6):\n",
    "    print(threeLen[c])"
   ]
  },
  {
   "cell_type": "markdown",
   "metadata": {},
   "source": [
    "INSERT"
   ]
  },
  {
   "cell_type": "code",
   "execution_count": 44,
   "metadata": {},
   "outputs": [
    {
     "name": "stdout",
     "output_type": "stream",
     "text": [
      "1\n",
      "2\n",
      "3\n",
      "4\n",
      "100\n",
      "5\n",
      "6\n"
     ]
    }
   ],
   "source": [
    "# insert() is using if the desire is to add an element at spesific index \n",
    "\n",
    "threeLen.insert(4,100)\n",
    "\n",
    "for c in range(7):\n",
    "    print(threeLen[c])"
   ]
  },
  {
   "cell_type": "markdown",
   "metadata": {},
   "source": [
    "REMOVE"
   ]
  },
  {
   "cell_type": "code",
   "execution_count": 46,
   "metadata": {},
   "outputs": [
    {
     "name": "stdout",
     "output_type": "stream",
     "text": [
      "1\n",
      "2\n",
      "3\n",
      "4\n",
      "5\n",
      "6\n"
     ]
    }
   ],
   "source": [
    "# remove() is using to delete an element from list\n",
    "\n",
    "threeLen.remove(100)\n",
    "\n",
    "for c in range(6):\n",
    "    print(threeLen[c])"
   ]
  },
  {
   "cell_type": "markdown",
   "metadata": {},
   "source": [
    "POP"
   ]
  },
  {
   "cell_type": "code",
   "execution_count": 47,
   "metadata": {},
   "outputs": [
    {
     "name": "stdout",
     "output_type": "stream",
     "text": [
      "1\n",
      "3\n"
     ]
    }
   ],
   "source": [
    "# pop() deletes the element but after deleting it can also returning that element's value\n",
    "\n",
    "lenExample = [1,2,3]\n",
    "\n",
    "lenExample.pop(1)\n",
    "\n",
    "for c in range(2):\n",
    "    print(lenExample[c])"
   ]
  },
  {
   "cell_type": "markdown",
   "metadata": {},
   "source": [
    "COUNT"
   ]
  },
  {
   "cell_type": "code",
   "execution_count": 50,
   "metadata": {},
   "outputs": [
    {
     "name": "stdout",
     "output_type": "stream",
     "text": [
      "3\n",
      "0\n"
     ]
    }
   ],
   "source": [
    "# count() shows that how many times an element can be seen in the list\n",
    "\n",
    "lenExample2 = [1,1,1]\n",
    "\n",
    "print(lenExample2.count(1))\n",
    "\n",
    "print(lenExample2.count(2))"
   ]
  },
  {
   "cell_type": "markdown",
   "metadata": {},
   "source": [
    "COPY"
   ]
  },
  {
   "cell_type": "code",
   "execution_count": 51,
   "metadata": {},
   "outputs": [
    {
     "name": "stdout",
     "output_type": "stream",
     "text": [
      "1\n",
      "2\n",
      "3\n"
     ]
    }
   ],
   "source": [
    "# copy() copies the list\n",
    "\n",
    "lenExample3 = [1,2,3]\n",
    "\n",
    "lenExample4 = lenExample3.copy()\n",
    "\n",
    "for c in range(3):\n",
    "    print(lenExample4[c])"
   ]
  },
  {
   "cell_type": "markdown",
   "metadata": {},
   "source": [
    "CONCENTENATION"
   ]
  },
  {
   "cell_type": "code",
   "execution_count": 52,
   "metadata": {},
   "outputs": [
    {
     "name": "stdout",
     "output_type": "stream",
     "text": [
      "1\n",
      "2\n",
      "3\n",
      "4\n",
      "5\n",
      "6\n"
     ]
    }
   ],
   "source": [
    "# + operator makes concentenation \n",
    "\n",
    "lenExample5 = [1,2,3]\n",
    "\n",
    "lenExample6 = [4,5,6]\n",
    "\n",
    "lenExample7 =[]\n",
    "\n",
    "lenExample7 = lenExample5 + lenExample6\n",
    "\n",
    "for c in range(6):\n",
    "    print(lenExample7[c])"
   ]
  },
  {
   "cell_type": "markdown",
   "metadata": {},
   "source": [
    "INDEX"
   ]
  },
  {
   "cell_type": "code",
   "execution_count": 54,
   "metadata": {},
   "outputs": [
    {
     "name": "stdout",
     "output_type": "stream",
     "text": [
      "4\n"
     ]
    }
   ],
   "source": [
    "# index(x) shows x which index it is at seen\n",
    "\n",
    "lenExample8 = [1,2,3,4,5]\n",
    "\n",
    "print(lenExample8.index(5))"
   ]
  },
  {
   "cell_type": "markdown",
   "metadata": {},
   "source": [
    "REVERSE"
   ]
  },
  {
   "cell_type": "code",
   "execution_count": 57,
   "metadata": {},
   "outputs": [
    {
     "name": "stdout",
     "output_type": "stream",
     "text": [
      "5\n",
      "4\n",
      "3\n",
      "2\n",
      "1\n"
     ]
    }
   ],
   "source": [
    "# reverse() reverses the list\n",
    "\n",
    "lenExample8.reverse()\n",
    "\n",
    "for c in range (5):\n",
    "    print(lenExample8[c])"
   ]
  },
  {
   "cell_type": "markdown",
   "metadata": {},
   "source": [
    "SORTED"
   ]
  },
  {
   "cell_type": "code",
   "execution_count": 60,
   "metadata": {},
   "outputs": [
    {
     "name": "stdout",
     "output_type": "stream",
     "text": [
      "b\n",
      "c\n",
      "a\n"
     ]
    },
    {
     "data": {
      "text/plain": [
       "['a', 'b', 'c']"
      ]
     },
     "execution_count": 60,
     "metadata": {},
     "output_type": "execute_result"
    }
   ],
   "source": [
    "# sorted() makes the list ascending order whether it is alphabetically or numerical list but it doesnt update original list\n",
    "\n",
    "lenExample9 = [\"b\",\"c\",\"a\"]\n",
    "\n",
    "sorted(lenExample9)\n",
    "\n",
    "for c in range(3):\n",
    "    print(lenExample9[c])\n",
    "\n",
    "sorted(lenExample9)"
   ]
  },
  {
   "cell_type": "markdown",
   "metadata": {},
   "source": [
    "SORT"
   ]
  },
  {
   "cell_type": "code",
   "execution_count": 66,
   "metadata": {},
   "outputs": [
    {
     "name": "stdout",
     "output_type": "stream",
     "text": [
      "a\n",
      "b\n",
      "c\n"
     ]
    }
   ],
   "source": [
    "# sort() instead of sorted() this makes inplacing in list\n",
    "\n",
    "lenExample10 = [\"b\",\"c\",\"a\"]\n",
    "\n",
    "lenExample10.sort()\n",
    "\n",
    "for c in range(3):\n",
    "    print(lenExample10[c])"
   ]
  },
  {
   "cell_type": "code",
   "execution_count": 75,
   "metadata": {},
   "outputs": [
    {
     "name": "stdout",
     "output_type": "stream",
     "text": [
      "0.5\n",
      "1\n",
      "2\n",
      "3\n",
      "a\n",
      "b\n",
      "c\n"
     ]
    }
   ],
   "source": [
    "lenExample11 = [\"b\",\"c\",\"a\",\"3\",\"2\",\"1\",\"0.5\"]\n",
    "\n",
    "lenExample11.sort()\n",
    "\n",
    "for c in range(7):\n",
    "    print(lenExample11[c])"
   ]
  },
  {
   "cell_type": "markdown",
   "metadata": {},
   "source": [
    "TUPLE"
   ]
  },
  {
   "cell_type": "code",
   "execution_count": 3,
   "metadata": {},
   "outputs": [
    {
     "name": "stdout",
     "output_type": "stream",
     "text": [
      "1\n",
      "2\n",
      "3\n"
     ]
    }
   ],
   "source": [
    "# Tuple is an immutable version of lists\n",
    "\n",
    "tupleExample = (1,2,3,\"a\")\n",
    "\n",
    "for c in range (3):\n",
    "    print(tupleExample[c])\n",
    "\n",
    "\n",
    "#This part will give error\n",
    "\n",
    "#tupleExample[0] = 4\n",
    "\n",
    "#for c in range (3):\n",
    "#    print(tupleExample[c])"
   ]
  },
  {
   "cell_type": "markdown",
   "metadata": {},
   "source": [
    "TRANSFER VALUE"
   ]
  },
  {
   "cell_type": "code",
   "execution_count": 4,
   "metadata": {},
   "outputs": [],
   "source": [
    "x = 2\n",
    "y = 3"
   ]
  },
  {
   "cell_type": "code",
   "execution_count": 5,
   "metadata": {},
   "outputs": [],
   "source": [
    "temp = x\n",
    "x = y\n",
    "y = temp"
   ]
  },
  {
   "cell_type": "code",
   "execution_count": 7,
   "metadata": {},
   "outputs": [
    {
     "name": "stdout",
     "output_type": "stream",
     "text": [
      "3\n",
      "2\n"
     ]
    }
   ],
   "source": [
    "print(x)\n",
    "print(y)"
   ]
  },
  {
   "cell_type": "code",
   "execution_count": 9,
   "metadata": {},
   "outputs": [
    {
     "name": "stdout",
     "output_type": "stream",
     "text": [
      "3\n",
      "2\n"
     ]
    }
   ],
   "source": [
    "# This tuple method do the same thing\n",
    "(x,y) = (y,x)\n",
    "\n",
    "print(x)\n",
    "print(y)"
   ]
  },
  {
   "cell_type": "code",
   "execution_count": 10,
   "metadata": {},
   "outputs": [
    {
     "name": "stdout",
     "output_type": "stream",
     "text": [
      "2\n",
      "3\n"
     ]
    }
   ],
   "source": [
    "# This method also do the same thing\n",
    "x , y = y , x\n",
    "\n",
    "print(x)\n",
    "print(y)"
   ]
  },
  {
   "cell_type": "code",
   "execution_count": 11,
   "metadata": {},
   "outputs": [
    {
     "name": "stdout",
     "output_type": "stream",
     "text": [
      "3\n",
      "2\n"
     ]
    }
   ],
   "source": [
    "# This method also do the same thing\n",
    "[x,y] = [y,x]\n",
    "\n",
    "print(x)\n",
    "print(y)"
   ]
  },
  {
   "cell_type": "markdown",
   "metadata": {},
   "source": [
    "ELEMENT CONTROL IN TUPLE AND LIST"
   ]
  },
  {
   "cell_type": "code",
   "execution_count": 14,
   "metadata": {},
   "outputs": [
    {
     "name": "stdout",
     "output_type": "stream",
     "text": [
      "True\n",
      "False\n",
      "There is 2 in this list\n"
     ]
    }
   ],
   "source": [
    "listExample = [1,2,3,4,5]\n",
    "\n",
    "print(2 in listExample)\n",
    "\n",
    "print(40 in listExample)\n",
    "\n",
    "if(2 in listExample):\n",
    "    print(\"There is 2 in this list\")"
   ]
  },
  {
   "cell_type": "code",
   "execution_count": 15,
   "metadata": {},
   "outputs": [
    {
     "name": "stdout",
     "output_type": "stream",
     "text": [
      "True\n",
      "False\n",
      "There is 2 in this tuple\n"
     ]
    }
   ],
   "source": [
    "tupleExample = (1,2,3,4,5)\n",
    "\n",
    "print(2 in tupleExample)\n",
    "\n",
    "print(40 in tupleExample)\n",
    "\n",
    "if(2 in tupleExample):\n",
    "    print(\"There is 2 in this tuple\")"
   ]
  },
  {
   "cell_type": "markdown",
   "metadata": {},
   "source": [
    "DICTIONARIES"
   ]
  },
  {
   "cell_type": "code",
   "execution_count": 17,
   "metadata": {},
   "outputs": [
    {
     "name": "stdout",
     "output_type": "stream",
     "text": [
      "90\n"
     ]
    }
   ],
   "source": [
    "# To store multiple values in multiple keys, dictionares is using\n",
    "\n",
    "# The keys are immutable, whereas the values can be either mutable or immutable.\n",
    "\n",
    "studentNotes2 = {\"Alperen\" : 90, \"Alissa\" : 90, \"Kemal\" : 100}\n",
    "\n",
    "print(studentNotes2[\"Alperen\"])\n",
    "\n",
    "print(studentNotes2[\"Alissa\"])\n",
    "\n",
    "print(studentNotes2[\"Kemal\"])"
   ]
  },
  {
   "cell_type": "code",
   "execution_count": 23,
   "metadata": {},
   "outputs": [
    {
     "name": "stdout",
     "output_type": "stream",
     "text": [
      "{'grade': 90, 'studentNo': 123456}\n",
      "90\n",
      "123456\n"
     ]
    }
   ],
   "source": [
    "studentGrades = {\"Alperen\" : {\"grade\" : 90,\"studentNo\" : 123456},\"Alissa\" : {\"grade\" : 90,\"studentNo\" : 222222}, \"Kemal\" : {\"grade\" : 100,\"studentNo\" : 100001}}\n",
    "\n",
    "print(studentGrades[\"Alperen\"])\n",
    "\n",
    "print(studentGrades[\"Alperen\"][\"grade\"])\n",
    "\n",
    "print(studentGrades[\"Alperen\"][\"studentNo\"])\n",
    "\n"
   ]
  },
  {
   "cell_type": "code",
   "execution_count": 26,
   "metadata": {},
   "outputs": [],
   "source": [
    "# Values can not be find by index numbers because given index is string\n",
    "\n",
    "# This will give error\n",
    "\n",
    "# print(studentGrades[0])"
   ]
  },
  {
   "cell_type": "code",
   "execution_count": 31,
   "metadata": {},
   "outputs": [
    {
     "name": "stdout",
     "output_type": "stream",
     "text": [
      "90\n",
      "100\n"
     ]
    }
   ],
   "source": [
    "# Values are mutable\n",
    "\n",
    "print(studentGrades[\"Alperen\"][\"grade\"])\n",
    "\n",
    "studentGrades[\"Alperen\"][\"grade\"] = 100\n",
    "\n",
    "print(studentGrades[\"Alperen\"][\"grade\"])"
   ]
  },
  {
   "cell_type": "code",
   "execution_count": 33,
   "metadata": {},
   "outputs": [
    {
     "name": "stdout",
     "output_type": "stream",
     "text": [
      "{'Alperen': {'grade': 100, 'studentNo': 123456}, 'Alissa': {'grade': 90, 'studentNo': 222222}, 'Kemal': {'grade': 100, 'studentNo': 100001}}\n"
     ]
    },
    {
     "data": {
      "text/plain": [
       "3"
      ]
     },
     "execution_count": 33,
     "metadata": {},
     "output_type": "execute_result"
    }
   ],
   "source": [
    "# len() gives the key numbers in dictionaries\n",
    "\n",
    "print(studentGrades)\n",
    "\n",
    "len(studentGrades)"
   ]
  },
  {
   "cell_type": "code",
   "execution_count": 40,
   "metadata": {},
   "outputs": [
    {
     "name": "stdout",
     "output_type": "stream",
     "text": [
      "{'Alperen': 90, 'Alissa': 80, 'Kemal': 100}\n",
      "{'Alperen': 90, 'Alissa': 80, 'Kemal': 100, 'Carlos': 100}\n"
     ]
    }
   ],
   "source": [
    "# Adding new element and value of element\n",
    "\n",
    "studentGrades2 = {\"Alperen\" : 90,\"Alissa\" : 80,\"Kemal\" : 100}\n",
    "\n",
    "print(studentGrades2)\n",
    "\n",
    "studentGrades2[\"Carlos\"] = 100 \n",
    "\n",
    "print(studentGrades2)\n"
   ]
  },
  {
   "cell_type": "code",
   "execution_count": 41,
   "metadata": {},
   "outputs": [
    {
     "name": "stdout",
     "output_type": "stream",
     "text": [
      "{'Alperen': 90, 'Alissa': 80, 'Kemal': 100, 'Carlos': 100}\n",
      "{'Alperen': 90, 'Alissa': 80, 'Kemal': 100}\n"
     ]
    }
   ],
   "source": [
    "# del is Deleting a key \n",
    "\n",
    "print(studentGrades2)\n",
    "\n",
    "del studentGrades2[\"Carlos\"]\n",
    "\n",
    "print(studentGrades2)"
   ]
  },
  {
   "cell_type": "code",
   "execution_count": 48,
   "metadata": {},
   "outputs": [
    {
     "name": "stdout",
     "output_type": "stream",
     "text": [
      "{'Alperen': 90, 'Alissa': 80, 'Kemal': 100}\n",
      "False\n",
      "True\n"
     ]
    }
   ],
   "source": [
    "# Query whether a value exists among the keys\n",
    "\n",
    "# In dictionaries it is even faster than lists and tuples\n",
    "\n",
    "print(studentGrades2)\n",
    "\n",
    "print(\"Mehmet\" in studentGrades2)\n",
    "\n",
    "print(\"Alperen\" in studentGrades2)"
   ]
  },
  {
   "cell_type": "markdown",
   "metadata": {},
   "source": [
    "SET"
   ]
  },
  {
   "cell_type": "code",
   "execution_count": 2,
   "metadata": {},
   "outputs": [
    {
     "name": "stdout",
     "output_type": "stream",
     "text": [
      "{1, 2, 3, 4, 5}\n"
     ]
    }
   ],
   "source": [
    "# A set is an unordered collection of unique elements. Sets are defined using curly braces {} or the set() function. They support operations like union, intersection, and difference.\n",
    "\n",
    "s = {1,2,3,4,5}\n",
    "\n",
    "print(s)"
   ]
  },
  {
   "cell_type": "code",
   "execution_count": null,
   "metadata": {},
   "outputs": [],
   "source": [
    "# Set is mutable and can not be indexed.\n",
    "\n",
    "# It is fast to control an element in SET compare to others like DICTIONARIES"
   ]
  },
  {
   "cell_type": "code",
   "execution_count": 1,
   "metadata": {},
   "outputs": [
    {
     "data": {
      "text/plain": [
       "dict"
      ]
     },
     "execution_count": 1,
     "metadata": {},
     "output_type": "execute_result"
    }
   ],
   "source": [
    "a = {}\n",
    "\n",
    "type(a)"
   ]
  },
  {
   "cell_type": "code",
   "execution_count": 2,
   "metadata": {},
   "outputs": [],
   "source": [
    "s = set()"
   ]
  },
  {
   "cell_type": "code",
   "execution_count": 3,
   "metadata": {},
   "outputs": [
    {
     "data": {
      "text/plain": [
       "set()"
      ]
     },
     "execution_count": 3,
     "metadata": {},
     "output_type": "execute_result"
    }
   ],
   "source": [
    "s"
   ]
  },
  {
   "cell_type": "code",
   "execution_count": 4,
   "metadata": {},
   "outputs": [],
   "source": [
    "l = [1,2,3,4]"
   ]
  },
  {
   "cell_type": "code",
   "execution_count": 5,
   "metadata": {},
   "outputs": [],
   "source": [
    "s = set(l)"
   ]
  },
  {
   "cell_type": "code",
   "execution_count": 6,
   "metadata": {},
   "outputs": [
    {
     "name": "stdout",
     "output_type": "stream",
     "text": [
      "{1, 2, 3, 4}\n"
     ]
    }
   ],
   "source": [
    "print(s)"
   ]
  },
  {
   "cell_type": "code",
   "execution_count": 7,
   "metadata": {},
   "outputs": [],
   "source": [
    "l = [1,2,3,4,5,6,7,7,7,7]"
   ]
  },
  {
   "cell_type": "code",
   "execution_count": 9,
   "metadata": {},
   "outputs": [
    {
     "name": "stdout",
     "output_type": "stream",
     "text": [
      "{1, 2, 3, 4, 5, 6, 7}\n"
     ]
    }
   ],
   "source": [
    "#There can not be same value in SET\n",
    "\n",
    "s = set(l)\n",
    "\n",
    "print(s)"
   ]
  },
  {
   "cell_type": "code",
   "execution_count": 10,
   "metadata": {},
   "outputs": [],
   "source": [
    "#Sets can not be indexed"
   ]
  },
  {
   "cell_type": "markdown",
   "metadata": {},
   "source": [
    "DIFFERENCE"
   ]
  },
  {
   "cell_type": "code",
   "execution_count": 16,
   "metadata": {},
   "outputs": [
    {
     "name": "stdout",
     "output_type": "stream",
     "text": [
      "{0}\n",
      "{0}\n",
      "{8, 6, 7}\n",
      "{8, 6, 7}\n"
     ]
    }
   ],
   "source": [
    "s1 = set([0,1,2,3,4,5])\n",
    "\n",
    "s2 = set([1,2,3,4,5,6,7,8])\n",
    "\n",
    "#Which element of s1 is different from s2\n",
    "print(s1.difference(s2))\n",
    "\n",
    "print(s1-s2)\n",
    "\n",
    "#Which element of s2 is different from s1\n",
    "print(s2.difference(s1))\n",
    "\n",
    "print(s2-s1)"
   ]
  },
  {
   "cell_type": "markdown",
   "metadata": {},
   "source": [
    "SYMMETRIC DIFFERENCE"
   ]
  },
  {
   "cell_type": "code",
   "execution_count": 17,
   "metadata": {},
   "outputs": [
    {
     "name": "stdout",
     "output_type": "stream",
     "text": [
      "{0, 1, 2, 3, 4, 5}\n",
      "{1, 2, 3, 4, 5, 6, 7, 8}\n"
     ]
    }
   ],
   "source": [
    "print(s1)\n",
    "\n",
    "print(s2)"
   ]
  },
  {
   "cell_type": "code",
   "execution_count": 20,
   "metadata": {},
   "outputs": [
    {
     "name": "stdout",
     "output_type": "stream",
     "text": [
      "{0, 6, 7, 8}\n"
     ]
    }
   ],
   "source": [
    "#(s1 \\ s2) U (s2 \\ s1) -> A U B - (A n B)\n",
    "\n",
    "print(s1.symmetric_difference(s2))\n",
    "\n",
    "#Same as s2 to s1"
   ]
  },
  {
   "cell_type": "markdown",
   "metadata": {},
   "source": [
    "INTERSECTION"
   ]
  },
  {
   "cell_type": "code",
   "execution_count": 27,
   "metadata": {},
   "outputs": [
    {
     "name": "stdout",
     "output_type": "stream",
     "text": [
      "{1, 2, 3, 4, 5}\n",
      "{1, 2, 3, 4, 5}\n",
      "{1, 2, 3, 4, 5}\n"
     ]
    }
   ],
   "source": [
    "print(s1.intersection(s2))\n",
    "\n",
    "#Same output as the s2 to s1 intersection command output\n",
    "\n",
    "print(s1 & s2)\n",
    "\n",
    "print(s1 - (s1-s2))\n",
    "\n"
   ]
  },
  {
   "cell_type": "code",
   "execution_count": 31,
   "metadata": {},
   "outputs": [
    {
     "name": "stdout",
     "output_type": "stream",
     "text": [
      "{1, 2, 3, 4, 5}\n",
      "{1, 2, 3, 4, 5, 6, 7, 8}\n"
     ]
    }
   ],
   "source": [
    "#This make intersection and update the s1 value to it\n",
    "\n",
    "s1.intersection_update(s2)\n",
    "\n",
    "print(s1)\n",
    "print(s2)\n"
   ]
  },
  {
   "cell_type": "markdown",
   "metadata": {},
   "source": [
    "UNION"
   ]
  },
  {
   "cell_type": "code",
   "execution_count": 33,
   "metadata": {},
   "outputs": [
    {
     "name": "stdout",
     "output_type": "stream",
     "text": [
      "{1, 2, 3, 4, 5, 6, 7, 8}\n",
      "{1, 2, 3, 4, 5}\n"
     ]
    }
   ],
   "source": [
    "print(s1.union(s2))\n",
    "\n",
    "print(s1)\n",
    "\n",
    "#So that union function only makes seem it is unioned but really not"
   ]
  },
  {
   "cell_type": "markdown",
   "metadata": {},
   "source": [
    "DISJOINT SETS"
   ]
  },
  {
   "cell_type": "code",
   "execution_count": 34,
   "metadata": {},
   "outputs": [
    {
     "name": "stdout",
     "output_type": "stream",
     "text": [
      "False\n"
     ]
    }
   ],
   "source": [
    "#This control whether s1 n s2 equals nothing or not\n",
    "\n",
    "print(s1.isdisjoint(s2))"
   ]
  },
  {
   "cell_type": "markdown",
   "metadata": {},
   "source": [
    "SUBSET"
   ]
  },
  {
   "cell_type": "code",
   "execution_count": 35,
   "metadata": {},
   "outputs": [
    {
     "name": "stdout",
     "output_type": "stream",
     "text": [
      "{1, 2, 3, 4, 5}\n",
      "{1, 2, 3, 4, 5, 6, 7, 8}\n"
     ]
    }
   ],
   "source": [
    "#SUBSET checks if other group is subset of the second one\n",
    "\n",
    "print(s1)\n",
    "print(s2)"
   ]
  },
  {
   "cell_type": "code",
   "execution_count": 36,
   "metadata": {},
   "outputs": [
    {
     "name": "stdout",
     "output_type": "stream",
     "text": [
      "True\n"
     ]
    }
   ],
   "source": [
    "print(s1.issubset(s2))"
   ]
  },
  {
   "cell_type": "markdown",
   "metadata": {},
   "source": [
    "SUPERSET"
   ]
  },
  {
   "cell_type": "code",
   "execution_count": 39,
   "metadata": {},
   "outputs": [
    {
     "name": "stdout",
     "output_type": "stream",
     "text": [
      "{1, 2, 3, 4, 5}\n",
      "{1, 2, 3, 4, 5, 6, 7, 8}\n",
      "False\n",
      "True\n"
     ]
    }
   ],
   "source": [
    "#SUPERSET checks if other group is superset of the second one\n",
    "\n",
    "print(s1)\n",
    "print(s2)\n",
    "\n",
    "print(s1.issuperset(s2))\n",
    "\n",
    "print(s2.issuperset(s1))"
   ]
  },
  {
   "cell_type": "markdown",
   "metadata": {},
   "source": [
    "SPLIT"
   ]
  },
  {
   "cell_type": "code",
   "execution_count": 5,
   "metadata": {},
   "outputs": [],
   "source": [
    "s = \"Hello there!\""
   ]
  },
  {
   "cell_type": "code",
   "execution_count": 6,
   "metadata": {},
   "outputs": [
    {
     "name": "stdout",
     "output_type": "stream",
     "text": [
      "['Hello', 'there!']\n"
     ]
    }
   ],
   "source": [
    "print(s.split(\" \"))"
   ]
  },
  {
   "cell_type": "code",
   "execution_count": 7,
   "metadata": {},
   "outputs": [
    {
     "name": "stdout",
     "output_type": "stream",
     "text": [
      "['General', 'Kenobi?']\n"
     ]
    }
   ],
   "source": [
    "s = \"General,Kenobi?\"\n",
    "\n",
    "print(s.split(\",\"))"
   ]
  },
  {
   "cell_type": "markdown",
   "metadata": {},
   "source": [
    "JOIN"
   ]
  },
  {
   "cell_type": "code",
   "execution_count": 10,
   "metadata": {},
   "outputs": [
    {
     "name": "stdout",
     "output_type": "stream",
     "text": [
      "lemon,orange,apple\n",
      "lemon-orange-apple\n"
     ]
    }
   ],
   "source": [
    "l = ['lemon','orange','apple']\n",
    "\n",
    "s = \",\".join(l)\n",
    "\n",
    "print(s)\n",
    "\n",
    "s = \"-\".join(l)\n",
    "\n",
    "print(s)"
   ]
  }
 ],
 "metadata": {
  "kernelspec": {
   "display_name": "Python 3",
   "language": "python",
   "name": "python3"
  },
  "language_info": {
   "codemirror_mode": {
    "name": "ipython",
    "version": 3
   },
   "file_extension": ".py",
   "mimetype": "text/x-python",
   "name": "python",
   "nbconvert_exporter": "python",
   "pygments_lexer": "ipython3",
   "version": "3.12.4"
  }
 },
 "nbformat": 4,
 "nbformat_minor": 2
}
